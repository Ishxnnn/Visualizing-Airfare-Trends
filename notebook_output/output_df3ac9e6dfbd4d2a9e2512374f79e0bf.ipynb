{
 "cells": [
  {
   "cell_type": "code",
   "execution_count": 1,
   "id": "c4465620",
   "metadata": {
    "execution": {
     "iopub.execute_input": "2025-04-15T00:18:09.046931Z",
     "iopub.status.busy": "2025-04-15T00:18:09.046303Z",
     "iopub.status.idle": "2025-04-15T00:18:09.056169Z",
     "shell.execute_reply": "2025-04-15T00:18:09.055566Z"
    },
    "papermill": {
     "duration": 0.021618,
     "end_time": "2025-04-15T00:18:09.057889",
     "exception": false,
     "start_time": "2025-04-15T00:18:09.036271",
     "status": "completed"
    },
    "tags": [
     "injected-parameters"
    ]
   },
   "outputs": [],
   "source": [
    "# Parameters\n",
    "departure = \"BUR\"\n",
    "arrival = \"OAK\"\n",
    "start_date = \"2025-04-15\"\n",
    "end_date = \"2025-04-22\"\n",
    "event = \"Recession\"\n"
   ]
  },
  {
   "cell_type": "code",
   "execution_count": 2,
   "id": "29de9df8",
   "metadata": {
    "colab": {
     "base_uri": "https://localhost:8080/"
    },
    "execution": {
     "iopub.execute_input": "2025-04-15T00:18:09.064357Z",
     "iopub.status.busy": "2025-04-15T00:18:09.064118Z",
     "iopub.status.idle": "2025-04-15T00:18:09.066863Z",
     "shell.execute_reply": "2025-04-15T00:18:09.066465Z"
    },
    "id": "0TaH0Htx1NAX",
    "outputId": "57afe79a-cbe5-4eff-fb43-ffab13e35d81",
    "papermill": {
     "duration": 0.006825,
     "end_time": "2025-04-15T00:18:09.068109",
     "exception": false,
     "start_time": "2025-04-15T00:18:09.061284",
     "status": "completed"
    },
    "tags": []
   },
   "outputs": [],
   "source": [
    "# Parameters (required by papermill) - DO NOT MODIFY\n",
    "departure = \"BOS\"\n",
    "arrival = \"EWR\"\n",
    "start_date = \"2025-04-14\"\n",
    "end_date = \"2025-04-30\"\n",
    "event = \"None\""
   ]
  },
  {
   "cell_type": "code",
   "execution_count": 3,
   "id": "a77b86df",
   "metadata": {
    "execution": {
     "iopub.execute_input": "2025-04-15T00:18:09.072921Z",
     "iopub.status.busy": "2025-04-15T00:18:09.072721Z",
     "iopub.status.idle": "2025-04-15T00:18:10.910024Z",
     "shell.execute_reply": "2025-04-15T00:18:10.909592Z"
    },
    "papermill": {
     "duration": 1.840722,
     "end_time": "2025-04-15T00:18:10.911073",
     "exception": false,
     "start_time": "2025-04-15T00:18:09.070351",
     "status": "completed"
    },
    "tags": []
   },
   "outputs": [
    {
     "name": "stderr",
     "output_type": "stream",
     "text": [
      "/var/folders/r4/67ckkk6d3bscj8vf3xjzj4gc0000gn/T/ipykernel_70539/379671017.py:13: DtypeWarning: Columns (20,21) have mixed types. Specify dtype option on import or set low_memory=False.\n",
      "  df = pd.read_csv('visualizing-airfare-trends-backend/airline_data.csv')\n"
     ]
    },
    {
     "name": "stdout",
     "output_type": "stream",
     "text": [
      "R² Score: 0.9391\n",
      "Mean Absolute Error (MAE): $11.00\n"
     ]
    }
   ],
   "source": [
    "import pandas as pd\n",
    "from sklearn.model_selection import train_test_split\n",
    "from sklearn.model_selection import GridSearchCV\n",
    "from sklearn.model_selection import RandomizedSearchCV\n",
    "from sklearn.linear_model import Ridge\n",
    "from sklearn.metrics import r2_score, mean_absolute_error\n",
    "from sklearn.preprocessing import OneHotEncoder\n",
    "from sklearn.compose import ColumnTransformer\n",
    "from sklearn.pipeline import Pipeline\n",
    "from sklearn.impute import SimpleImputer\n",
    "\n",
    "# 1. Load the data\n",
    "df = pd.read_csv('visualizing-airfare-trends-backend/airline_data.csv')\n",
    "\n",
    "# Parameters (required by papermill) - DO NOT MODIFY\n",
    "departure = \"BOS\"\n",
    "arrival = \"EWR\"\n",
    "start_date = \"2025-04-14\"\n",
    "end_date = \"2025-04-30\"\n",
    "event = \"None\"\n",
    "\n",
    "# 2. Basic Preprocessing\n",
    "# Drop rows where fare (target) is missing\n",
    "df = df.dropna(subset=['fare'])\n",
    "\n",
    "# 3. Select Features\n",
    "categorical_features = ['airport_1', 'airport_2']\n",
    "numeric_features = [\n",
    "    'nsmiles', 'passengers', 'large_ms', 'lf_ms',\n",
    "    'fare_lg', 'fare_low', 'Year', 'quarter'\n",
    "]\n",
    "target = 'fare'\n",
    "\n",
    "# Drop rows with missing important feature values\n",
    "df = df.dropna(subset=numeric_features + categorical_features)\n",
    "\n",
    "X = df[categorical_features + numeric_features]\n",
    "y = df[target]\n",
    "\n",
    "# 4. Build Preprocessing Pipeline\n",
    "# - One-hot encode airports\n",
    "# - Fill missing numeric values if any (shouldn't be necessary after dropna, but safe)\n",
    "preprocessor = ColumnTransformer(\n",
    "    transformers=[\n",
    "        ('cat', OneHotEncoder(handle_unknown='ignore'), categorical_features),\n",
    "        ('num', SimpleImputer(strategy='mean'), numeric_features)\n",
    "    ]\n",
    ")\n",
    "\n",
    "# 5. Train/Test Split\n",
    "X_train, X_test, y_train, y_test = train_test_split(\n",
    "    X, y, test_size=0.2, random_state=42\n",
    ")\n",
    "\n",
    "# 6. Build the Final Pipeline\n",
    "model = Pipeline(steps=[\n",
    "    ('preprocessor', preprocessor),\n",
    "    ('regressor', Ridge(alpha=1.0))\n",
    "])\n",
    "\n",
    "# 7. Train the Model\n",
    "model.fit(X_train, y_train)\n",
    "\n",
    "# 8. Predict and Evaluate\n",
    "y_pred = model.predict(X_test)\n",
    "\n",
    "r2 = r2_score(y_test, y_pred)\n",
    "mae = mean_absolute_error(y_test, y_pred)\n",
    "\n",
    "print(f\"R² Score: {r2:.4f}\")\n",
    "print(f\"Mean Absolute Error (MAE): ${mae:.2f}\")\n"
   ]
  },
  {
   "cell_type": "code",
   "execution_count": 4,
   "id": "96fd542f",
   "metadata": {
    "execution": {
     "iopub.execute_input": "2025-04-15T00:18:10.916083Z",
     "iopub.status.busy": "2025-04-15T00:18:10.915882Z",
     "iopub.status.idle": "2025-04-15T00:18:10.919851Z",
     "shell.execute_reply": "2025-04-15T00:18:10.919149Z"
    },
    "id": "VWfFLjoK2m51",
    "papermill": {
     "duration": 0.008483,
     "end_time": "2025-04-15T00:18:10.921918",
     "exception": false,
     "start_time": "2025-04-15T00:18:10.913435",
     "status": "completed"
    },
    "tags": []
   },
   "outputs": [],
   "source": [
    "# 9. Prediction Function\n",
    "def predict_fare(origin_airport, destination_airport, year, quarter, distance, passengers,\n",
    "                 large_market_share, lowfare_market_share, largest_fare, lowest_fare):\n",
    "    \"\"\"\n",
    "    Predicts the airfare given user input.\n",
    "    \"\"\"\n",
    "\n",
    "    # Create a single-row DataFrame matching the training features\n",
    "    input_data = pd.DataFrame({\n",
    "        'airport_1': [origin_airport],\n",
    "        'airport_2': [destination_airport],\n",
    "        'Year': [year],\n",
    "        'quarter': [quarter],\n",
    "        'nsmiles': [distance],\n",
    "        'passengers': [passengers],\n",
    "        'large_ms': [large_market_share],\n",
    "        'lf_ms': [lowfare_market_share],\n",
    "        'fare_lg': [largest_fare],\n",
    "        'fare_low': [lowest_fare]\n",
    "    })\n",
    "\n",
    "    # Predict\n",
    "    predicted_price = model.predict(input_data)[0]\n",
    "    return predicted_price\n"
   ]
  },
  {
   "cell_type": "code",
   "execution_count": 5,
   "id": "739c06e9",
   "metadata": {
    "colab": {
     "base_uri": "https://localhost:8080/"
    },
    "execution": {
     "iopub.execute_input": "2025-04-15T00:18:10.927348Z",
     "iopub.status.busy": "2025-04-15T00:18:10.927157Z",
     "iopub.status.idle": "2025-04-15T00:18:10.934738Z",
     "shell.execute_reply": "2025-04-15T00:18:10.934348Z"
    },
    "id": "IhL2qhsg3c7D",
    "outputId": "3a6cb9f9-ac81-428a-95f8-030e4ef3c7ed",
    "papermill": {
     "duration": 0.011137,
     "end_time": "2025-04-15T00:18:10.935681",
     "exception": false,
     "start_time": "2025-04-15T00:18:10.924544",
     "status": "completed"
    },
    "tags": []
   },
   "outputs": [
    {
     "name": "stdout",
     "output_type": "stream",
     "text": [
      "Predicted Fare: $170.35\n"
     ]
    }
   ],
   "source": [
    "# Example inputs:\n",
    "predicted = predict_fare(\n",
    "    origin_airport='ATL',  # Atlanta\n",
    "    destination_airport='JFK',  # New York JFK\n",
    "    year=2023,\n",
    "    quarter=2,\n",
    "    distance=760,  # Atlanta to JFK in miles\n",
    "    passengers=15000,  # Hypothetical number\n",
    "    large_market_share=0.6,  # 60%\n",
    "    lowfare_market_share=0.3,  # 30%\n",
    "    largest_fare=250,  # $250\n",
    "    lowest_fare=180  # $180\n",
    ")\n",
    "\n",
    "print(f\"Predicted Fare: ${predicted:.2f}\")"
   ]
  },
  {
   "cell_type": "code",
   "execution_count": 6,
   "id": "96116134",
   "metadata": {
    "colab": {
     "base_uri": "https://localhost:8080/"
    },
    "execution": {
     "iopub.execute_input": "2025-04-15T00:18:10.940167Z",
     "iopub.status.busy": "2025-04-15T00:18:10.939996Z",
     "iopub.status.idle": "2025-04-15T00:18:10.942345Z",
     "shell.execute_reply": "2025-04-15T00:18:10.942020Z"
    },
    "id": "70_OWK-s3eaZ",
    "outputId": "035be7cb-eaf2-4112-f39a-6670a6ab21b9",
    "papermill": {
     "duration": 0.00556,
     "end_time": "2025-04-15T00:18:10.943228",
     "exception": false,
     "start_time": "2025-04-15T00:18:10.937668",
     "status": "completed"
    },
    "tags": []
   },
   "outputs": [],
   "source": [
    "# # 1. Build Pipeline again (without fixed alpha)\n",
    "# model = Pipeline(steps=[\n",
    "#     ('preprocessor', preprocessor),\n",
    "#     ('regressor', Ridge())  # No alpha specified yet\n",
    "# ])\n",
    "\n",
    "# # 2. Define Grid Search parameters\n",
    "# param_grid = {\n",
    "#     'regressor__alpha': [0.01, 0.1, 1, 10, 100]\n",
    "# }\n",
    "\n",
    "# # 3. GridSearchCV\n",
    "# grid_search = GridSearchCV(\n",
    "#     model,\n",
    "#     param_grid,\n",
    "#     cv=5,             # 5-fold cross-validation\n",
    "#     scoring='r2',     # Maximize R²\n",
    "#     n_jobs=-1\n",
    "# )\n",
    "\n",
    "# # 4. Fit GridSearchCV\n",
    "# grid_search.fit(X_train, y_train)\n",
    "\n",
    "# # 5. Get best model\n",
    "# best_model = grid_search.best_estimator_\n",
    "\n",
    "# # 6. Predict and Evaluate\n",
    "# y_pred = best_model.predict(X_test)\n",
    "\n",
    "# r2 = r2_score(y_test, y_pred)\n",
    "# mae = mean_absolute_error(y_test, y_pred)\n",
    "\n",
    "# print(f\"Best Ridge alpha: {grid_search.best_params_['regressor__alpha']}\")\n",
    "# print(f\"R² Score after tuning: {r2:.4f}\")\n",
    "# print(f\"Mean Absolute Error after tuning: ${mae:.2f}\")\n"
   ]
  },
  {
   "cell_type": "code",
   "execution_count": 7,
   "id": "685e6f30",
   "metadata": {
    "colab": {
     "base_uri": "https://localhost:8080/"
    },
    "execution": {
     "iopub.execute_input": "2025-04-15T00:18:10.947517Z",
     "iopub.status.busy": "2025-04-15T00:18:10.947365Z",
     "iopub.status.idle": "2025-04-15T00:18:10.949850Z",
     "shell.execute_reply": "2025-04-15T00:18:10.949512Z"
    },
    "id": "X-QLraTt9nTD",
    "outputId": "438df473-bc42-42c8-dc1e-c407804568b4",
    "papermill": {
     "duration": 0.005623,
     "end_time": "2025-04-15T00:18:10.950759",
     "exception": false,
     "start_time": "2025-04-15T00:18:10.945136",
     "status": "completed"
    },
    "tags": []
   },
   "outputs": [],
   "source": [
    "# # 1. Sample a bit more data (20% instead of 10%)\n",
    "# X_train_small = X_train.sample(frac=0.2, random_state=42)\n",
    "# y_train_small = y_train.loc[X_train_small.index]\n",
    "\n",
    "# # 2. Slightly bigger Random Forest search\n",
    "# rf_param_grid = {\n",
    "#     'regressor__n_estimators': [50, 100],    # More trees\n",
    "#     'regressor__max_depth': [10, 20, None],  # Deeper trees\n",
    "#     'regressor__min_samples_split': [2, 5]   # Try bigger splits\n",
    "# }\n",
    "\n",
    "# rf_random_search = RandomizedSearchCV(\n",
    "#     rf_model,\n",
    "#     rf_param_grid,\n",
    "#     n_iter=4,        # Try 4 random combinations\n",
    "#     cv=2,            # 2 folds still\n",
    "#     scoring='r2',\n",
    "#     n_jobs=-1,\n",
    "#     verbose=1,\n",
    "#     random_state=42\n",
    "# )\n",
    "\n",
    "# # 3. Train\n",
    "# rf_random_search.fit(X_train_small, y_train_small)\n",
    "\n",
    "# # 4. Predict and Evaluate\n",
    "# rf_best_model = rf_random_search.best_estimator_\n",
    "# rf_y_pred = rf_best_model.predict(X_test)\n",
    "\n",
    "# rf_r2 = r2_score(y_test, rf_y_pred)\n",
    "# rf_mae = mean_absolute_error(y_test, rf_y_pred)\n",
    "\n",
    "# print(f\"Random Forest Best Params (Medium Mode): {rf_random_search.best_params_}\")\n",
    "# print(f\"Random Forest R² Score (Medium Mode): {rf_r2:.4f}\")\n",
    "# print(f\"Random Forest MAE (Medium Mode): ${rf_mae:.2f}\")\n"
   ]
  },
  {
   "cell_type": "code",
   "execution_count": 8,
   "id": "b4047bc8",
   "metadata": {
    "colab": {
     "base_uri": "https://localhost:8080/"
    },
    "execution": {
     "iopub.execute_input": "2025-04-15T00:18:10.954982Z",
     "iopub.status.busy": "2025-04-15T00:18:10.954835Z",
     "iopub.status.idle": "2025-04-15T00:18:10.957049Z",
     "shell.execute_reply": "2025-04-15T00:18:10.956721Z"
    },
    "id": "hoOaApQtBnJz",
    "outputId": "c6b95e8a-a3ea-46f5-b7e3-e689200c09d6",
    "papermill": {
     "duration": 0.00527,
     "end_time": "2025-04-15T00:18:10.957932",
     "exception": false,
     "start_time": "2025-04-15T00:18:10.952662",
     "status": "completed"
    },
    "tags": []
   },
   "outputs": [],
   "source": [
    "# rf_param_grid = {\n",
    "#     'regressor__n_estimators': [100, 200, 300, 400],  # More trees\n",
    "#     'regressor__max_depth': [15, 20, None],            # Deeper trees\n",
    "#     'regressor__min_samples_split': [2, 5]             # Same splits\n",
    "# }\n",
    "\n",
    "# rf_random_search = RandomizedSearchCV(\n",
    "#     rf_model,\n",
    "#     rf_param_grid,\n",
    "#     n_iter=10,          # Try 10 random configurations\n",
    "#     cv=3,               # 3-fold cross-validation\n",
    "#     scoring='r2',\n",
    "#     n_jobs=-1,\n",
    "#     verbose=1,\n",
    "#     random_state=42\n",
    "# )\n",
    "\n",
    "# rf_random_search.fit(X_train, y_train)\n",
    "\n",
    "# # Best model\n",
    "# rf_best_model = rf_random_search.best_estimator_\n",
    "# rf_y_pred = rf_best_model.predict(X_test)\n",
    "\n",
    "# rf_r2 = r2_score(y_test, rf_y_pred)\n",
    "# rf_mae = mean_absolute_error(y_test, rf_y_pred)\n",
    "\n",
    "# print(f\"Random Forest Best Params (Heavy Mode): {rf_random_search.best_params_}\")\n",
    "# print(f\"Random Forest R² Score (Heavy Mode): {rf_r2:.4f}\")\n",
    "# print(f\"Random Forest MAE (Heavy Mode): ${rf_mae:.2f}\")\n"
   ]
  },
  {
   "cell_type": "code",
   "execution_count": 9,
   "id": "13247eea",
   "metadata": {
    "execution": {
     "iopub.execute_input": "2025-04-15T00:18:10.962128Z",
     "iopub.status.busy": "2025-04-15T00:18:10.961983Z",
     "iopub.status.idle": "2025-04-15T00:18:10.964304Z",
     "shell.execute_reply": "2025-04-15T00:18:10.964015Z"
    },
    "id": "QzDn3Qqk-HfJ",
    "papermill": {
     "duration": 0.005429,
     "end_time": "2025-04-15T00:18:10.965208",
     "exception": false,
     "start_time": "2025-04-15T00:18:10.959779",
     "status": "completed"
    },
    "tags": []
   },
   "outputs": [],
   "source": [
    "# from xgboost import XGBRegressor\n",
    "\n",
    "# # 1. Build Pipeline (swap regressor to XGB)\n",
    "# xgb_model = Pipeline(steps=[\n",
    "#     ('preprocessor', preprocessor),\n",
    "#     ('regressor', XGBRegressor(objective='reg:squarederror', random_state=42))\n",
    "# ])\n",
    "\n",
    "# # 2. Define hyperparameter grid for XGBoost\n",
    "# xgb_param_grid = {\n",
    "#     'regressor__n_estimators': [100, 200],\n",
    "#     'regressor__max_depth': [3, 5, 7],\n",
    "#     'regressor__learning_rate': [0.01, 0.1, 0.2]\n",
    "# }\n",
    "\n",
    "# # 3. GridSearchCV for XGBoost\n",
    "# xgb_grid_search = GridSearchCV(\n",
    "#     xgb_model,\n",
    "#     xgb_param_grid,\n",
    "#     cv=3,\n",
    "#     scoring='r2',\n",
    "#     n_jobs=-1,\n",
    "#     verbose=1\n",
    "# )\n",
    "\n",
    "# # 4. Train XGBoost\n",
    "# xgb_grid_search.fit(X_train, y_train)\n",
    "\n",
    "# # 5. Best XGBoost model\n",
    "# xgb_best_model = xgb_grid_search.best_estimator_\n",
    "\n",
    "# # 6. Predict and Evaluate XGBoost\n",
    "# xgb_y_pred = xgb_best_model.predict(X_test)\n",
    "\n",
    "# xgb_r2 = r2_score(y_test, xgb_y_pred)\n",
    "# xgb_mae = mean_absolute_error(y_test, xgb_y_pred)\n",
    "\n",
    "# print(f\"XGBoost Best Params: {xgb_grid_search.best_params_}\")\n",
    "# print(f\"XGBoost R² Score: {xgb_r2:.4f}\")\n",
    "# print(f\"XGBoost MAE: ${xgb_mae:.2f}\")\n"
   ]
  },
  {
   "cell_type": "markdown",
   "id": "9cf45234",
   "metadata": {
    "papermill": {
     "duration": 0.001767,
     "end_time": "2025-04-15T00:18:10.968881",
     "exception": false,
     "start_time": "2025-04-15T00:18:10.967114",
     "status": "completed"
    },
    "tags": []
   },
   "source": [
    "For it to sync with the frontend, the final cell of the notebook should look like this (DO NOT MODIFY IT): "
   ]
  },
  {
   "cell_type": "code",
   "execution_count": 10,
   "id": "6876c5f5",
   "metadata": {
    "execution": {
     "iopub.execute_input": "2025-04-15T00:18:10.973127Z",
     "iopub.status.busy": "2025-04-15T00:18:10.972973Z",
     "iopub.status.idle": "2025-04-15T00:18:10.975075Z",
     "shell.execute_reply": "2025-04-15T00:18:10.974772Z"
    },
    "papermill": {
     "duration": 0.005285,
     "end_time": "2025-04-15T00:18:10.975942",
     "exception": false,
     "start_time": "2025-04-15T00:18:10.970657",
     "status": "completed"
    },
    "tags": []
   },
   "outputs": [
    {
     "name": "stdout",
     "output_type": "stream",
     "text": [
      "170.35\n"
     ]
    }
   ],
   "source": [
    "predicted_price = round(predicted, 2)\n",
    "print(predicted_price)"
   ]
  }
 ],
 "metadata": {
  "colab": {
   "provenance": []
  },
  "kernelspec": {
   "display_name": "airfare_backend",
   "language": "python",
   "name": "python3"
  },
  "language_info": {
   "codemirror_mode": {
    "name": "ipython",
    "version": 3
   },
   "file_extension": ".py",
   "mimetype": "text/x-python",
   "name": "python",
   "nbconvert_exporter": "python",
   "pygments_lexer": "ipython3",
   "version": "3.10.16"
  },
  "papermill": {
   "default_parameters": {},
   "duration": 3.172253,
   "end_time": "2025-04-15T00:18:11.296768",
   "environment_variables": {},
   "exception": null,
   "input_path": "visualizing-airfare-trends-backend/dataviz_draft.ipynb",
   "output_path": "notebook_output/output_df3ac9e6dfbd4d2a9e2512374f79e0bf.ipynb",
   "parameters": {
    "arrival": "OAK",
    "departure": "BUR",
    "end_date": "2025-04-22",
    "event": "Recession",
    "start_date": "2025-04-15"
   },
   "start_time": "2025-04-15T00:18:08.124515",
   "version": "2.6.0"
  }
 },
 "nbformat": 4,
 "nbformat_minor": 5
}